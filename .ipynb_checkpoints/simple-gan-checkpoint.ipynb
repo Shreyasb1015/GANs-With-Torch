{
 "cells": [
  {
   "cell_type": "code",
   "execution_count": 42,
   "id": "da68b82c-f8c6-4b38-acf1-26cdd16f5bbe",
   "metadata": {},
   "outputs": [],
   "source": [
    "import torch\n",
    "from torch import nn\n",
    "import torch.optim as optim\n",
    "import torchvision.datasets as datasets\n",
    "from torch.utils.data import DataLoader\n",
    "from torchvision.transforms import transforms\n",
    "import torchvision\n",
    "from torch.utils.tensorboard import SummaryWriter"
   ]
  },
  {
   "cell_type": "code",
   "execution_count": 43,
   "id": "e2200100-4df2-4d4c-a7ce-9dee11d17476",
   "metadata": {},
   "outputs": [],
   "source": [
    "class Discriminator(nn.Module):\n",
    "    def __init__(self,img_dim):\n",
    "        super().__init__()\n",
    "        self.disc=nn.Sequential(\n",
    "            nn.Linear(in_features=img_dim,out_features=128),\n",
    "            nn.LeakyReLU(0.1),\n",
    "            nn.Linear(in_features=128,out_features=1),\n",
    "            nn.Sigmoid()\n",
    "        )\n",
    "    def forward(self,x):\n",
    "        return self.disc(x)"
   ]
  },
  {
   "cell_type": "code",
   "execution_count": 44,
   "id": "9b051f7c-6a26-4f3a-984e-8ba5b01428f5",
   "metadata": {},
   "outputs": [],
   "source": [
    "class Generator(nn.Module):\n",
    "    def __init__(self,z_dim,img_dim):    ##Z_dim is the dimension of latent noise that generator gonna take as input\n",
    "        super().__init__()\n",
    "        self.gen=nn.Sequential(\n",
    "            nn.Linear(in_features=z_dim,out_features=256),\n",
    "            nn.LeakyReLU(0.1),\n",
    "            nn.Linear(256,img_dim),\n",
    "            nn.Tanh(),     ##For normalizing the data between -1 and 1\n",
    "        )\n",
    "    def forward(self,x):\n",
    "        return self.gen(x)\n",
    "        \n",
    "        "
   ]
  },
  {
   "cell_type": "code",
   "execution_count": 45,
   "id": "6f3fdc6f-0be2-4136-91b4-2643dc5aafff",
   "metadata": {},
   "outputs": [
    {
     "name": "stdout",
     "output_type": "stream",
     "text": [
      "Using device:cuda\n"
     ]
    }
   ],
   "source": [
    "device=\"cuda\" if torch.cuda.is_available() else \"cpu\"\n",
    "print(f\"Using device:{device}\")"
   ]
  },
  {
   "cell_type": "code",
   "execution_count": 46,
   "id": "ecc80f9b-dc32-4a59-b86e-b4835ddf5dcc",
   "metadata": {},
   "outputs": [],
   "source": [
    "lr=3e-4\n",
    "z_dim=64\n",
    "image_dim=28*28*1\n",
    "batch_size=32\n",
    "num_epochs=50\n",
    "disc=Discriminator(img_dim=image_dim).to(device)\n",
    "gen=Generator(z_dim=z_dim,img_dim=image_dim).to(device)\n",
    "fixed_noise=torch.randn((batch_size,z_dim)).to(device)\n",
    "transforms=transforms.Compose([\n",
    "    transforms.ToTensor(),\n",
    "    transforms.Normalize((0.1307,), (0.3081,))\n",
    "])"
   ]
  },
  {
   "cell_type": "code",
   "execution_count": 47,
   "id": "f0266103-4b11-42bc-8a50-d0492559a559",
   "metadata": {},
   "outputs": [],
   "source": [
    "dataset=datasets.MNIST(root='dataset/',transform=transforms,download=True)\n",
    "loader=DataLoader(dataset=dataset,batch_size=batch_size,shuffle=True)\n",
    "opt_disc=optim.Adam(params=disc.parameters(),lr=lr)\n",
    "opt_gen=optim.Adam(params=gen.parameters(),lr=lr)\n",
    "criterion=nn.BCELoss()\n"
   ]
  },
  {
   "cell_type": "code",
   "execution_count": 48,
   "id": "8aa81391-55db-4688-b35a-634b8629ad9e",
   "metadata": {},
   "outputs": [],
   "source": [
    "writer_fake=SummaryWriter(f'runs/GAN_MNIST/fake')\n",
    "writer_real=SummaryWriter(f'runs/GAN_MNSIT/real')\n",
    "step=0"
   ]
  },
  {
   "cell_type": "code",
   "execution_count": 49,
   "id": "2c4331d3-eb93-4e42-9e0b-7a93344b3648",
   "metadata": {},
   "outputs": [
    {
     "name": "stdout",
     "output_type": "stream",
     "text": [
      "Epoch [0/50] Batch 0/1875                       Loss D: 0.5830, loss G: 0.7219\n"
     ]
    },
    {
     "ename": "KeyboardInterrupt",
     "evalue": "",
     "output_type": "error",
     "traceback": [
      "\u001b[1;31m---------------------------------------------------------------------------\u001b[0m",
      "\u001b[1;31mKeyboardInterrupt\u001b[0m                         Traceback (most recent call last)",
      "Cell \u001b[1;32mIn[49], line 32\u001b[0m\n\u001b[0;32m     30\u001b[0m fake \u001b[38;5;241m=\u001b[39m gen(fixed_noise)\u001b[38;5;241m.\u001b[39mreshape(\u001b[38;5;241m-\u001b[39m\u001b[38;5;241m1\u001b[39m, \u001b[38;5;241m1\u001b[39m, \u001b[38;5;241m28\u001b[39m, \u001b[38;5;241m28\u001b[39m)\n\u001b[0;32m     31\u001b[0m data \u001b[38;5;241m=\u001b[39m real\u001b[38;5;241m.\u001b[39mreshape(\u001b[38;5;241m-\u001b[39m\u001b[38;5;241m1\u001b[39m, \u001b[38;5;241m1\u001b[39m, \u001b[38;5;241m28\u001b[39m, \u001b[38;5;241m28\u001b[39m)\n\u001b[1;32m---> 32\u001b[0m img_grid_fake \u001b[38;5;241m=\u001b[39m torchvision\u001b[38;5;241m.\u001b[39mutils\u001b[38;5;241m.\u001b[39mmake_grid(fake, normalize\u001b[38;5;241m=\u001b[39m\u001b[38;5;28;01mTrue\u001b[39;00m)\n\u001b[0;32m     33\u001b[0m img_grid_real \u001b[38;5;241m=\u001b[39m torchvision\u001b[38;5;241m.\u001b[39mutils\u001b[38;5;241m.\u001b[39mmake_grid(data, normalize\u001b[38;5;241m=\u001b[39m\u001b[38;5;28;01mTrue\u001b[39;00m)\n\u001b[0;32m     35\u001b[0m writer_fake\u001b[38;5;241m.\u001b[39madd_image(\n\u001b[0;32m     36\u001b[0m     \u001b[38;5;124m\"\u001b[39m\u001b[38;5;124mMnist Fake Images\u001b[39m\u001b[38;5;124m\"\u001b[39m, img_grid_fake, global_step\u001b[38;5;241m=\u001b[39mstep\n\u001b[0;32m     37\u001b[0m )\n",
      "File \u001b[1;32m~\\anaconda3\\envs\\torchenv\\Lib\\site-packages\\torch\\utils\\_contextlib.py:115\u001b[0m, in \u001b[0;36mcontext_decorator.<locals>.decorate_context\u001b[1;34m(*args, **kwargs)\u001b[0m\n\u001b[0;32m    112\u001b[0m \u001b[38;5;129m@functools\u001b[39m\u001b[38;5;241m.\u001b[39mwraps(func)\n\u001b[0;32m    113\u001b[0m \u001b[38;5;28;01mdef\u001b[39;00m \u001b[38;5;21mdecorate_context\u001b[39m(\u001b[38;5;241m*\u001b[39margs, \u001b[38;5;241m*\u001b[39m\u001b[38;5;241m*\u001b[39mkwargs):\n\u001b[0;32m    114\u001b[0m     \u001b[38;5;28;01mwith\u001b[39;00m ctx_factory():\n\u001b[1;32m--> 115\u001b[0m         \u001b[38;5;28;01mreturn\u001b[39;00m func(\u001b[38;5;241m*\u001b[39margs, \u001b[38;5;241m*\u001b[39m\u001b[38;5;241m*\u001b[39mkwargs)\n",
      "File \u001b[1;32m~\\anaconda3\\envs\\torchenv\\Lib\\site-packages\\torchvision\\utils.py:98\u001b[0m, in \u001b[0;36mmake_grid\u001b[1;34m(tensor, nrow, padding, normalize, value_range, scale_each, pad_value)\u001b[0m\n\u001b[0;32m     96\u001b[0m             norm_range(t, value_range)\n\u001b[0;32m     97\u001b[0m     \u001b[38;5;28;01melse\u001b[39;00m:\n\u001b[1;32m---> 98\u001b[0m         norm_range(tensor, value_range)\n\u001b[0;32m    100\u001b[0m \u001b[38;5;28;01mif\u001b[39;00m \u001b[38;5;129;01mnot\u001b[39;00m \u001b[38;5;28misinstance\u001b[39m(tensor, torch\u001b[38;5;241m.\u001b[39mTensor):\n\u001b[0;32m    101\u001b[0m     \u001b[38;5;28;01mraise\u001b[39;00m \u001b[38;5;167;01mTypeError\u001b[39;00m(\u001b[38;5;124m\"\u001b[39m\u001b[38;5;124mtensor should be of type torch.Tensor\u001b[39m\u001b[38;5;124m\"\u001b[39m)\n",
      "File \u001b[1;32m~\\anaconda3\\envs\\torchenv\\Lib\\site-packages\\torchvision\\utils.py:92\u001b[0m, in \u001b[0;36mmake_grid.<locals>.norm_range\u001b[1;34m(t, value_range)\u001b[0m\n\u001b[0;32m     90\u001b[0m     norm_ip(t, value_range[\u001b[38;5;241m0\u001b[39m], value_range[\u001b[38;5;241m1\u001b[39m])\n\u001b[0;32m     91\u001b[0m \u001b[38;5;28;01melse\u001b[39;00m:\n\u001b[1;32m---> 92\u001b[0m     norm_ip(t, \u001b[38;5;28mfloat\u001b[39m(t\u001b[38;5;241m.\u001b[39mmin()), \u001b[38;5;28mfloat\u001b[39m(t\u001b[38;5;241m.\u001b[39mmax()))\n",
      "\u001b[1;31mKeyboardInterrupt\u001b[0m: "
     ]
    }
   ],
   "source": [
    "for epoch in range(num_epochs):\n",
    "    for batch_idx,(real,_) in enumerate(loader):\n",
    "        real=real.view(-1,784).to(device)\n",
    "        batch_size=real.shape[0]\n",
    "        ##Train discriminator: max log(D(real)) + log(1 -D(G(z)))\n",
    "        noise=torch.randn(batch_size,z_dim).to(device)\n",
    "        fake=gen(noise)\n",
    "        disc_real = disc(real).view(-1)  ##Flatten everything\n",
    "        lossD_real=criterion(disc_real,torch.ones_like(disc_real))\n",
    "        disc_fake = disc(fake).view(-1)\n",
    "        lossD_fake=criterion(disc_fake,torch.zeros_like(disc_fake))\n",
    "        lossD=(lossD_real+lossD_fake)/2\n",
    "        disc.zero_grad()\n",
    "        lossD.backward(retain_graph=True)\n",
    "        opt_disc.step()\n",
    "\n",
    "        ##Train generator : min log(1-D(G(z)))  <---> max log(D(G(z)))\n",
    "        output=disc(fake).view(-1)\n",
    "        lossG=criterion(output,torch.ones_like(output))\n",
    "        gen.zero_grad()\n",
    "        lossG.backward()\n",
    "        opt_gen.step()\n",
    "\n",
    "        if batch_idx == 0:\n",
    "            print(\n",
    "                f\"Epoch [{epoch}/{num_epochs}] Batch {batch_idx}/{len(loader)} \\\n",
    "                      Loss D: {lossD:.4f}, loss G: {lossG:.4f}\"\n",
    "            )\n",
    "        with torch.inference_mode():\n",
    "                fake = gen(fixed_noise).reshape(-1, 1, 28, 28)\n",
    "                data = real.reshape(-1, 1, 28, 28)\n",
    "                img_grid_fake = torchvision.utils.make_grid(fake, normalize=True)\n",
    "                img_grid_real = torchvision.utils.make_grid(data, normalize=True)\n",
    "\n",
    "                writer_fake.add_image(\n",
    "                    \"Mnist Fake Images\", img_grid_fake, global_step=step\n",
    "                )\n",
    "                writer_real.add_image(\n",
    "                    \"Mnist Real Images\", img_grid_real, global_step=step\n",
    "                )\n",
    "                step += 1\n",
    "\n",
    "            \n",
    "    "
   ]
  },
  {
   "cell_type": "code",
   "execution_count": null,
   "id": "9c7cdd86-648e-4885-8640-604aeee0af9a",
   "metadata": {},
   "outputs": [],
   "source": []
  }
 ],
 "metadata": {
  "kernelspec": {
   "display_name": "Python 3 (ipykernel)",
   "language": "python",
   "name": "python3"
  },
  "language_info": {
   "codemirror_mode": {
    "name": "ipython",
    "version": 3
   },
   "file_extension": ".py",
   "mimetype": "text/x-python",
   "name": "python",
   "nbconvert_exporter": "python",
   "pygments_lexer": "ipython3",
   "version": "3.12.3"
  }
 },
 "nbformat": 4,
 "nbformat_minor": 5
}
